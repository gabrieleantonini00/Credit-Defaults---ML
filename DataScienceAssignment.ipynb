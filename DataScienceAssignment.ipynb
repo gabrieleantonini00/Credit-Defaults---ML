{
  "nbformat": 4,
  "nbformat_minor": 0,
  "metadata": {
    "colab": {
      "provenance": [],
      "collapsed_sections": [
        "8eH9V1IJYX4q",
        "6qhcF-2zitcO"
      ],
      "gpuType": "T4"
    },
    "kernelspec": {
      "name": "python3",
      "display_name": "Python 3"
    },
    "language_info": {
      "name": "python"
    },
    "accelerator": "GPU"
  },
  "cells": [
    {
      "cell_type": "markdown",
      "source": [
        "# Data Science Assignment"
      ],
      "metadata": {
        "id": "MocgYP0VloiQ"
      }
    },
    {
      "cell_type": "code",
      "source": [],
      "metadata": {
        "id": "Zx4lfoNk0-nL"
      },
      "execution_count": null,
      "outputs": []
    },
    {
      "cell_type": "markdown",
      "source": [],
      "metadata": {
        "id": "5WcASqI0Zkac"
      }
    },
    {
      "cell_type": "markdown",
      "source": [
        "# Importing the libraries"
      ],
      "metadata": {
        "id": "7_zCII9uZmgJ"
      }
    },
    {
      "cell_type": "code",
      "source": [
        "import numpy as np\n",
        "import matplotlib.pyplot as plt\n",
        "import pandas as pd\n",
        "from sklearn.preprocessing import LabelEncoder\n",
        "from sklearn.model_selection import train_test_split\n",
        "from sklearn.preprocessing import StandardScaler\n",
        "from sklearn.linear_model import LogisticRegression"
      ],
      "metadata": {
        "id": "KGMfmrx4aPbo"
      },
      "execution_count": null,
      "outputs": []
    },
    {
      "cell_type": "markdown",
      "source": [
        "# Importing the dataset"
      ],
      "metadata": {
        "id": "8oXWpKcmctUr"
      }
    },
    {
      "cell_type": "code",
      "execution_count": null,
      "metadata": {
        "id": "jtskyF56X3HU",
        "colab": {
          "base_uri": "https://localhost:8080/"
        },
        "outputId": "ae64f5fb-1538-4277-9a2d-1f8fe49207ff"
      },
      "outputs": [
        {
          "output_type": "stream",
          "name": "stderr",
          "text": [
            "<ipython-input-3-93d3a2be6bf3>:2: DtypeWarning: Columns (1,48,58,117,127,128,129,132,133,134,137) have mixed types. Specify dtype option on import or set low_memory=False.\n",
            "  dataset = pd.read_csv('/content/drive/MyDrive/Loan_status_2007-2020Q3.csv')\n"
          ]
        }
      ],
      "source": [
        "# Load the CSV file\n",
        "dataset = pd.read_csv('/content/drive/MyDrive/Loan_status_2007-2020Q3.csv')\n"
      ]
    },
    {
      "cell_type": "markdown",
      "source": [
        "# Data (quick) analysis"
      ],
      "metadata": {
        "id": "59r2LzhOeBck"
      }
    },
    {
      "cell_type": "code",
      "source": [
        "print(dataset.info())"
      ],
      "metadata": {
        "colab": {
          "base_uri": "https://localhost:8080/",
          "height": 141
        },
        "id": "0ZdcYVKYapYu",
        "outputId": "b3dc8eb7-84f3-4b3f-9b22-5f313865eb5b"
      },
      "execution_count": null,
      "outputs": [
        {
          "output_type": "error",
          "ename": "NameError",
          "evalue": "name 'dataset' is not defined",
          "traceback": [
            "\u001b[0;31m---------------------------------------------------------------------------\u001b[0m",
            "\u001b[0;31mNameError\u001b[0m                                 Traceback (most recent call last)",
            "\u001b[0;32m<ipython-input-1-52c6c0184d93>\u001b[0m in \u001b[0;36m<cell line: 1>\u001b[0;34m()\u001b[0m\n\u001b[0;32m----> 1\u001b[0;31m \u001b[0mprint\u001b[0m\u001b[0;34m(\u001b[0m\u001b[0mdataset\u001b[0m\u001b[0;34m.\u001b[0m\u001b[0minfo\u001b[0m\u001b[0;34m(\u001b[0m\u001b[0;34m)\u001b[0m\u001b[0;34m)\u001b[0m\u001b[0;34m\u001b[0m\u001b[0;34m\u001b[0m\u001b[0m\n\u001b[0m",
            "\u001b[0;31mNameError\u001b[0m: name 'dataset' is not defined"
          ]
        }
      ]
    },
    {
      "cell_type": "code",
      "source": [
        "display(dataset.sample(3),dataset.info(verbose=True, show_counts=True))"
      ],
      "metadata": {
        "colab": {
          "base_uri": "https://localhost:8080/",
          "height": 141
        },
        "id": "QQjWTYDIFepQ",
        "outputId": "a5a66275-23c9-4e21-8b1c-d6fe93499e01"
      },
      "execution_count": null,
      "outputs": [
        {
          "output_type": "error",
          "ename": "NameError",
          "evalue": "name 'dataset' is not defined",
          "traceback": [
            "\u001b[0;31m---------------------------------------------------------------------------\u001b[0m",
            "\u001b[0;31mNameError\u001b[0m                                 Traceback (most recent call last)",
            "\u001b[0;32m<ipython-input-2-8abe529d2d0a>\u001b[0m in \u001b[0;36m<cell line: 1>\u001b[0;34m()\u001b[0m\n\u001b[0;32m----> 1\u001b[0;31m \u001b[0mdisplay\u001b[0m\u001b[0;34m(\u001b[0m\u001b[0mdataset\u001b[0m\u001b[0;34m.\u001b[0m\u001b[0msample\u001b[0m\u001b[0;34m(\u001b[0m\u001b[0;36m3\u001b[0m\u001b[0;34m)\u001b[0m\u001b[0;34m,\u001b[0m\u001b[0mdataset\u001b[0m\u001b[0;34m.\u001b[0m\u001b[0minfo\u001b[0m\u001b[0;34m(\u001b[0m\u001b[0mverbose\u001b[0m\u001b[0;34m=\u001b[0m\u001b[0;32mTrue\u001b[0m\u001b[0;34m,\u001b[0m \u001b[0mshow_counts\u001b[0m\u001b[0;34m=\u001b[0m\u001b[0;32mTrue\u001b[0m\u001b[0;34m)\u001b[0m\u001b[0;34m)\u001b[0m\u001b[0;34m\u001b[0m\u001b[0;34m\u001b[0m\u001b[0m\n\u001b[0m",
            "\u001b[0;31mNameError\u001b[0m: name 'dataset' is not defined"
          ]
        }
      ]
    },
    {
      "cell_type": "markdown",
      "source": [
        "# Datatype Mismatches"
      ],
      "metadata": {
        "id": "8eH9V1IJYX4q"
      }
    },
    {
      "cell_type": "code",
      "source": [
        "# Columns with mixed types based on warning message\n",
        "mixed_type_columns_indices = [1, 48, 58, 117, 127, 128, 129, 132, 133, 134, 137]\n",
        "\n",
        "# Fetch column names from their indices\n",
        "column_names = dataset.columns[mixed_type_columns_indices]\n",
        "\n",
        "# Display the column names\n",
        "print(\"Columns with mixed types:\")\n",
        "for name in column_names:\n",
        "    print(name)"
      ],
      "metadata": {
        "id": "6SRMAqK6SaTk"
      },
      "execution_count": null,
      "outputs": []
    },
    {
      "cell_type": "code",
      "source": [
        "def converting_cat_to_num(x):\n",
        "    if not isinstance(x,str):\n",
        "        return x\n",
        "    return float(x.split(\"%\")[0].lstrip())\n",
        "# Converting numerically data stored as categorical\n",
        "dataset['revol_util'] = dataset['revol_util'].map(converting_cat_to_num)"
      ],
      "metadata": {
        "id": "m_mmKYJ0ezAz"
      },
      "execution_count": null,
      "outputs": []
    },
    {
      "cell_type": "code",
      "source": [
        "to_data_features = [\"issue_d\", \"earliest_cr_line\", \"last_pymnt_d\", \"next_pymnt_d\",\\\n",
        "                    \"last_credit_pull_d\", \"sec_app_earliest_cr_line\", \"hardship_start_date\",\\\n",
        "                   \"hardship_end_date\", \"payment_plan_start_date\"]\n",
        "\n",
        "display(dataset[to_data_features].info(verbose=True, show_counts=True), dataset[to_data_features].sample(15))"
      ],
      "metadata": {
        "id": "6GD1nKelXmZ7"
      },
      "execution_count": null,
      "outputs": []
    },
    {
      "cell_type": "code",
      "source": [
        "# Converting data"
      ],
      "metadata": {
        "id": "hFsekiuui-e1"
      },
      "execution_count": null,
      "outputs": []
    },
    {
      "cell_type": "code",
      "source": [
        "enum = {'Jan':\"01\",\n",
        "            'Feb':\"02\",\n",
        "            'Mar':\"03\",'Apr':\"04\",'May':\"05\",'Jun':\"06\",'Jul':\"07\",'Aug':\"08\",'Sep':\"09\",'Oct':\"10\",'Nov':\"11\",'Dec':\"12\"}\n",
        "def to_data_tranfromer(x):\n",
        "    if not isinstance(x,str):\n",
        "        return np.nan\n",
        "    date = x.split('-')\n",
        "    return int(date[1])\n",
        "\n",
        "for name in to_data_features:\n",
        "    dataset[name] = dataset[name].map(to_data_tranfromer)"
      ],
      "metadata": {
        "id": "NsQUGJE4YDwh"
      },
      "execution_count": null,
      "outputs": []
    },
    {
      "cell_type": "markdown",
      "source": [
        "\n",
        "# Data Corrections"
      ],
      "metadata": {
        "id": "bM6VR2CBl316"
      }
    },
    {
      "cell_type": "code",
      "source": [
        "# dropping ID columns\n",
        "if dataset['id'].value_counts().max()==1:\n",
        "    dataset = dataset.drop(columns=['id', 'Unnamed: 0'])"
      ],
      "metadata": {
        "id": "lImbogmnGD78"
      },
      "execution_count": null,
      "outputs": []
    },
    {
      "cell_type": "code",
      "source": [
        "# Drop the 'grade' and 'sub_grade' columns\n",
        "columns_to_drop = ['grade', 'sub_grade']\n",
        "dataset = dataset.drop(columns=columns_to_drop)"
      ],
      "metadata": {
        "id": "PufYd72Lfy1m"
      },
      "execution_count": null,
      "outputs": []
    },
    {
      "cell_type": "code",
      "source": [
        "# drop interest rates related features\n",
        "columns_to_drop = ['int_rate', 'orig_projected_additional_accrued_interest']\n",
        "dataset = dataset.drop(columns=columns_to_drop)"
      ],
      "metadata": {
        "id": "P0eDPFAFuI_n"
      },
      "execution_count": null,
      "outputs": []
    },
    {
      "cell_type": "code",
      "source": [
        "# Addressing information leakage possible issues\n",
        "columns_to_drop = [\"collection_recovery_fee\", \"debt_settlement_flag\", \"deferral_term\",\n",
        "             \"delinq_amnt\", \"hardship_amount\",\n",
        "             \"hardship_dpd\", \"hardship_end_date\", \"hardship_flag\", \"hardship_last_payment_amount\",\n",
        "             \"hardship_length\", \"hardship_loan_status\", \"hardship_payoff_balance_amount\",\n",
        "             \"hardship_reason\", \"hardship_start_date\", \"hardship_status\", \"hardship_type\",\n",
        "             \"initial_list_status\", \"last_credit_pull_d\", \"last_fico_range_high\", \"last_fico_range_low\",\n",
        "             \"last_pymnt_amnt\", \"last_pymnt_d\", \"out_prncp\",\n",
        "             \"out_prncp_inv\", \"payment_plan_start_date\", \"pymnt_plan\", \"recoveries\", \"total_pymnt\",\n",
        "             \"total_pymnt_inv\", \"total_rec_int\", \"total_rec_late_fee\", \"total_rec_prncp\", \"next_pymnt_d\"]\n",
        "\n",
        "dataset = dataset.drop(columns=columns_to_drop)"
      ],
      "metadata": {
        "id": "UjMtOzCgK-mV"
      },
      "execution_count": null,
      "outputs": []
    },
    {
      "cell_type": "code",
      "source": [
        "#Setting binary outcome"
      ],
      "metadata": {
        "id": "Vv4MEZmxjMC3"
      },
      "execution_count": null,
      "outputs": []
    },
    {
      "cell_type": "code",
      "source": [
        "dataset['loan_status'].unique()"
      ],
      "metadata": {
        "id": "0IrsW_3Dmq4V"
      },
      "execution_count": null,
      "outputs": []
    },
    {
      "cell_type": "code",
      "source": [
        "dataset = dataset[dataset['loan_status'].isin(['Fully Paid', 'Charged Off'])]"
      ],
      "metadata": {
        "id": "WDTgKOizHcMm"
      },
      "execution_count": null,
      "outputs": []
    },
    {
      "cell_type": "code",
      "source": [
        "dataset['loan_status'] = dataset['loan_status'].replace({'Fully Paid': 0, 'Charged Off': 1})"
      ],
      "metadata": {
        "id": "pOyuMTpzwSLB"
      },
      "execution_count": null,
      "outputs": []
    },
    {
      "cell_type": "code",
      "source": [
        "display(dataset.sample(3),dataset.info(verbose=True, show_counts=True))"
      ],
      "metadata": {
        "id": "wKls-Tti95V_"
      },
      "execution_count": null,
      "outputs": []
    },
    {
      "cell_type": "markdown",
      "source": [
        "# Coding categorical variables"
      ],
      "metadata": {
        "id": "6qhcF-2zitcO"
      }
    },
    {
      "cell_type": "code",
      "source": [
        "#checking variables unique values in order to choose the best-fitting encoding method. Encoding."
      ],
      "metadata": {
        "id": "42GT9euxjXUz"
      },
      "execution_count": null,
      "outputs": []
    },
    {
      "cell_type": "code",
      "source": [
        "# dropping non-informative features"
      ],
      "metadata": {
        "id": "gJJEcpG8kdB1"
      },
      "execution_count": null,
      "outputs": []
    },
    {
      "cell_type": "code",
      "source": [
        "dataset['term'].unique()"
      ],
      "metadata": {
        "id": "QFhMJfqTxds-"
      },
      "execution_count": null,
      "outputs": []
    },
    {
      "cell_type": "code",
      "source": [
        "term_encoded = pd.get_dummies(dataset['term'], prefix='term')\n",
        "dataset = pd.concat([dataset.drop(columns=['term']), term_encoded], axis=1)"
      ],
      "metadata": {
        "id": "lZxRzog0Al2i"
      },
      "execution_count": null,
      "outputs": []
    },
    {
      "cell_type": "code",
      "source": [
        "dataset['emp_title'].unique()"
      ],
      "metadata": {
        "id": "P0WxASo1BcWL"
      },
      "execution_count": null,
      "outputs": []
    },
    {
      "cell_type": "code",
      "source": [
        "dataset.drop(columns=['emp_title'], inplace=True)"
      ],
      "metadata": {
        "id": "_7gLLbiyO1OJ"
      },
      "execution_count": null,
      "outputs": []
    },
    {
      "cell_type": "code",
      "source": [
        "dataset['emp_length'].unique()"
      ],
      "metadata": {
        "id": "fqAIf7KgCTBB"
      },
      "execution_count": null,
      "outputs": []
    },
    {
      "cell_type": "code",
      "source": [
        "label_encoder = LabelEncoder()\n",
        "dataset['emp_length_encoded'] = label_encoder.fit_transform(dataset['emp_length'])\n",
        "dataset.drop(columns=['emp_length'], inplace=True)"
      ],
      "metadata": {
        "id": "nKIQnXHGINs9"
      },
      "execution_count": null,
      "outputs": []
    },
    {
      "cell_type": "code",
      "source": [
        "dataset['home_ownership'].unique()"
      ],
      "metadata": {
        "id": "bjYjWMpjHC0R"
      },
      "execution_count": null,
      "outputs": []
    },
    {
      "cell_type": "code",
      "source": [
        "home_ownership_encoded = pd.get_dummies(dataset['home_ownership'], prefix='home_ownership')\n",
        "dataset = pd.concat([dataset.drop(columns=['home_ownership']), home_ownership_encoded], axis=1)"
      ],
      "metadata": {
        "id": "Sl82tv1gQq3L"
      },
      "execution_count": null,
      "outputs": []
    },
    {
      "cell_type": "code",
      "source": [
        "dataset['verification_status'].unique()"
      ],
      "metadata": {
        "id": "wVo9_Xz_RAfw"
      },
      "execution_count": null,
      "outputs": []
    },
    {
      "cell_type": "code",
      "source": [
        "verification_status_encoded = pd.get_dummies(dataset['verification_status'], prefix='verification_status')\n",
        "dataset = pd.concat([dataset.drop(columns=['verification_status']), verification_status_encoded], axis=1)"
      ],
      "metadata": {
        "id": "ulF3162av-T3"
      },
      "execution_count": null,
      "outputs": []
    },
    {
      "cell_type": "code",
      "source": [
        "dataset=dataset.drop(columns=['url'])"
      ],
      "metadata": {
        "id": "AZgdMSpWwVEb"
      },
      "execution_count": null,
      "outputs": []
    },
    {
      "cell_type": "code",
      "source": [
        "dataset['purpose'].unique()"
      ],
      "metadata": {
        "id": "TBRzk6r_vffm"
      },
      "execution_count": null,
      "outputs": []
    },
    {
      "cell_type": "code",
      "source": [
        "purpose_encoded = pd.get_dummies(dataset['purpose'], prefix='purpose')\n",
        "dataset = pd.concat([dataset.drop(columns=['purpose']), purpose_encoded], axis=1)"
      ],
      "metadata": {
        "id": "wUCrqXurwqGl"
      },
      "execution_count": null,
      "outputs": []
    },
    {
      "cell_type": "code",
      "source": [
        "dataset=dataset.drop(columns=['title'])"
      ],
      "metadata": {
        "id": "NCVmGPUxwy-V"
      },
      "execution_count": null,
      "outputs": []
    },
    {
      "cell_type": "code",
      "source": [
        "dataset=dataset.drop(columns=['zip_code'])"
      ],
      "metadata": {
        "id": "65kmLOe0xaC1"
      },
      "execution_count": null,
      "outputs": []
    },
    {
      "cell_type": "code",
      "source": [
        "dataset['addr_state'].unique()"
      ],
      "metadata": {
        "id": "FZCTrQ-rxLR4"
      },
      "execution_count": null,
      "outputs": []
    },
    {
      "cell_type": "code",
      "source": [
        "addr_state_encoded = pd.get_dummies(dataset['addr_state'], prefix='addr_state')\n",
        "dataset = pd.concat([dataset.drop(columns=['addr_state']), addr_state_encoded], axis=1)"
      ],
      "metadata": {
        "id": "vPLR5I4-wy5j"
      },
      "execution_count": null,
      "outputs": []
    },
    {
      "cell_type": "code",
      "source": [
        "dataset['application_type'].unique()"
      ],
      "metadata": {
        "id": "tGYNi_zSwy0D"
      },
      "execution_count": null,
      "outputs": []
    },
    {
      "cell_type": "code",
      "source": [
        "dataset=dataset.drop(columns=['application_type'])"
      ],
      "metadata": {
        "id": "Acpf5xXjzUbk"
      },
      "execution_count": null,
      "outputs": []
    },
    {
      "cell_type": "code",
      "source": [
        "dataset['verification_status_joint'].unique()"
      ],
      "metadata": {
        "id": "W-0ZvH5OyCx7"
      },
      "execution_count": null,
      "outputs": []
    },
    {
      "cell_type": "code",
      "source": [
        "dataset=dataset.drop(columns=['verification_status_joint'])"
      ],
      "metadata": {
        "id": "2g-9gMfE0FMc"
      },
      "execution_count": null,
      "outputs": []
    },
    {
      "cell_type": "markdown",
      "source": [
        "# Model"
      ],
      "metadata": {
        "id": "_o3dAWwx0JWV"
      }
    },
    {
      "cell_type": "code",
      "source": [
        "X = dataset.drop(columns=['loan_status'])\n",
        "y = dataset['loan_status']"
      ],
      "metadata": {
        "id": "s0-_mdQg0NY_"
      },
      "execution_count": null,
      "outputs": []
    },
    {
      "cell_type": "code",
      "source": [
        "# dividing the dataset in training and test"
      ],
      "metadata": {
        "id": "mmzMwaeVjkoN"
      },
      "execution_count": null,
      "outputs": []
    },
    {
      "cell_type": "code",
      "source": [
        "X_train, X_test, y_train, y_test = train_test_split(X, y, test_size = 0.25, random_state = 0)"
      ],
      "metadata": {
        "id": "dp09_hxN1ikZ"
      },
      "execution_count": null,
      "outputs": []
    },
    {
      "cell_type": "code",
      "source": [
        "# imoputing the missing (using the mean)"
      ],
      "metadata": {
        "id": "RB-U6NzCjq8J"
      },
      "execution_count": null,
      "outputs": []
    },
    {
      "cell_type": "code",
      "source": [
        "from sklearn.impute import SimpleImputer\n",
        "\n",
        "imputer = SimpleImputer(strategy='mean')\n",
        "X_train = imputer.fit_transform(X_train)\n",
        "X_test = imputer.transform(X_test)"
      ],
      "metadata": {
        "id": "zpc90HZ927F2"
      },
      "execution_count": null,
      "outputs": []
    },
    {
      "cell_type": "code",
      "source": [
        "# Scaling"
      ],
      "metadata": {
        "id": "-X4kMcKHjxhQ"
      },
      "execution_count": null,
      "outputs": []
    },
    {
      "cell_type": "code",
      "source": [
        "sc = StandardScaler()\n",
        "X_train = sc.fit_transform(X_train)\n",
        "X_test = sc.transform(X_test)"
      ],
      "metadata": {
        "id": "VZlf0Cjf1oGb"
      },
      "execution_count": null,
      "outputs": []
    },
    {
      "cell_type": "code",
      "source": [
        "classifier = LogisticRegression(random_state=0, max_iter=1000)\n",
        "classifier.fit(X_train, y_train)"
      ],
      "metadata": {
        "id": "KMt0e5rc1_5_"
      },
      "execution_count": null,
      "outputs": []
    },
    {
      "cell_type": "code",
      "source": [
        "y_pred = classifier.predict(X_test)\n"
      ],
      "metadata": {
        "id": "SLy4xhcmcZy0"
      },
      "execution_count": null,
      "outputs": []
    },
    {
      "cell_type": "code",
      "source": [
        "# checking accuracy"
      ],
      "metadata": {
        "id": "NvYP3IOyj037"
      },
      "execution_count": null,
      "outputs": []
    },
    {
      "cell_type": "code",
      "source": [
        "from sklearn.metrics import confusion_matrix, accuracy_score\n",
        "cm = confusion_matrix(y_test, y_pred)\n",
        "print(cm)\n",
        "accuracy_score(y_test, y_pred)"
      ],
      "metadata": {
        "id": "hUGcY9fP4KsC"
      },
      "execution_count": null,
      "outputs": []
    },
    {
      "cell_type": "code",
      "source": [
        "# confusion matrix: imbalanced dataset\n",
        "# accuracy: good"
      ],
      "metadata": {
        "id": "kto4Z-GAj24G"
      },
      "execution_count": null,
      "outputs": []
    },
    {
      "cell_type": "code",
      "source": [
        "# explainability: coefficients"
      ],
      "metadata": {
        "id": "oUTYJnM_kLTJ"
      },
      "execution_count": null,
      "outputs": []
    },
    {
      "cell_type": "code",
      "source": [
        "# Assuming classifier is already trained and X is your feature matrix\n",
        "coefficients = classifier.coef_.flatten()  # Flatten coefficients if necessary\n",
        "feature_names = X.columns.tolist()\n",
        "\n",
        "# Create a DataFrame combining feature names and coefficients\n",
        "coef_df = pd.DataFrame(list(zip(feature_names, coefficients)), columns=['Feature', 'Coefficient'])\n",
        "\n",
        "# Set Pandas display options to show all rows\n",
        "pd.set_option('display.max_rows', None)  # None means unlimited rows will be displayed\n",
        "pd.set_option('display.max_columns', None)  # None means unlimited columns will be displayed\n",
        "pd.set_option('display.width', None)  # Auto-adjust the width of the display\n",
        "\n",
        "# Display the DataFrame\n",
        "print(coef_df)\n",
        "\n",
        "# Reset Pandas display options to default (optional)\n",
        "pd.reset_option('display.max_rows')\n",
        "pd.reset_option('display.max_columns')\n",
        "pd.reset_option('display.width')"
      ],
      "metadata": {
        "id": "B3KjBVdSEpzu"
      },
      "execution_count": null,
      "outputs": []
    }
  ]
}